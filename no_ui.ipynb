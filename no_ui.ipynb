{
 "cells": [
  {
   "cell_type": "code",
   "execution_count": 1,
   "metadata": {},
   "outputs": [],
   "source": [
    "# !!! testing purpose !!!\n",
    "# this cell is for testing the translation component \n",
    "# try uncomment the 2 following line to see the fr translation of the module\n",
    "#import os\n",
    "#os.environ[\"CUSTOM_LANGUAGE\"] = \"fr\""
   ]
  },
  {
   "cell_type": "code",
   "execution_count": 2,
   "metadata": {},
   "outputs": [],
   "source": [
    "# fore debuggin purposes you can run all the tiles of your app without being in voila\n",
    "# if you free the methods from their try catch statement, you'll be able to see all the error traceback\n",
    "# you can also display the evolution of your io in extra cells along the process execution\n",
    "\n",
    "# of course the notebook should be run with 'kernel'->'restart and run all'"
   ]
  },
  {
   "cell_type": "code",
   "execution_count": 3,
   "metadata": {},
   "outputs": [
    {
     "data": {
      "application/vnd.jupyter.widget-view+json": {
       "model_id": "59338b371e9d4b8983942ccb672aa58f",
       "version_major": 2,
       "version_minor": 0
      },
      "text/plain": [
       "Styles()"
      ]
     },
     "metadata": {},
     "output_type": "display_data"
    },
    {
     "data": {
      "application/vnd.jupyter.widget-view+json": {
       "model_id": "8ad6eae9b7c148cd9b5f25deeb78f2d5",
       "version_major": 2,
       "version_minor": 0
      },
      "text/plain": [
       "ResizeTrigger()"
      ]
     },
     "metadata": {},
     "output_type": "display_data"
    }
   ],
   "source": [
    "# load the patial files\n",
    "%run 'bfast_ui.ipynb'"
   ]
  },
  {
   "cell_type": "code",
   "execution_count": 4,
   "metadata": {},
   "outputs": [],
   "source": [
    "# display each tile individually "
   ]
  },
  {
   "cell_type": "code",
   "execution_count": 5,
   "metadata": {
    "tags": []
   },
   "outputs": [
    {
     "data": {
      "application/vnd.jupyter.widget-view+json": {
       "model_id": "a03e9f92a0ac4ee3b9b897cea2f65034",
       "version_major": 2,
       "version_minor": 0
      },
      "text/plain": [
       "BfastTile(align_center=True, children=[Card(children=[Html(children=['Select time series folder'], tag='h2'), …"
      ]
     },
     "metadata": {},
     "output_type": "display_data"
    }
   ],
   "source": [
    "bfast_tile"
   ]
  },
  {
   "cell_type": "code",
   "execution_count": 6,
   "metadata": {},
   "outputs": [
    {
     "data": {
      "application/vnd.jupyter.widget-view+json": {
       "model_id": "fab6b3108caa47528b733758a545dfb4",
       "version_major": 2,
       "version_minor": 0
      },
      "text/plain": [
       "ResultTile(align_center=True, children=[Card(children=[Html(children=['Result map'], tag='h2'), Flex(children=…"
      ]
     },
     "metadata": {},
     "output_type": "display_data"
    }
   ],
   "source": [
    "map_tile"
   ]
  }
 ],
 "metadata": {
  "kernelspec": {
   "display_name": "Python 3",
   "language": "python",
   "name": "python3"
  },
  "language_info": {
   "codemirror_mode": {
    "name": "ipython",
    "version": 3
   },
   "file_extension": ".py",
   "mimetype": "text/x-python",
   "name": "python",
   "nbconvert_exporter": "python",
   "pygments_lexer": "ipython3",
   "version": "3.6.9"
  }
 },
 "nbformat": 4,
 "nbformat_minor": 4
}
