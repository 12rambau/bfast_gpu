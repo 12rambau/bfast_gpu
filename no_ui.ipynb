{
 "cells": [
  {
   "cell_type": "code",
   "execution_count": 2,
   "metadata": {},
   "outputs": [],
   "source": [
    "%load_ext autoreload\n",
    "%autoreload 2"
   ]
  },
  {
   "cell_type": "code",
   "execution_count": 3,
   "metadata": {},
   "outputs": [
    {
     "data": {
      "text/html": [
       "<style>/*******************************************************************************\n",
       " * Customization of the provided css from the different libs used by sepal_ui\n",
       " */\n",
       "\n",
       "/* replace the map panel elements on top */\n",
       ".leaflet-pane,\n",
       ".leaflet-top,\n",
       ".leaflet-bottom {\n",
       "  z-index: 2 !important;\n",
       "}\n",
       "\n",
       "/* remove the shadow from the widgets on the maps */\n",
       ".leaflet-widgetcontrol {\n",
       "  box-shadow: none;\n",
       "}\n",
       "\n",
       "/* remove extra padding on top of the content */\n",
       "main.v-content {\n",
       "  padding-top: 0px !important;\n",
       "}\n",
       "\n",
       "/* remove all the backgrounds from the controls and widget to be colored naturelly by the map */\n",
       ".leaflet-control-container .vuetify-styles .v-application {\n",
       "  background: rgb(0, 0, 0, 0);\n",
       "}\n",
       ".v-alert__wrapper .progress {\n",
       "  background-color: transparent;\n",
       "}\n",
       "\n",
       "/* set the bar on top of the map (800) when set to fullscreen */\n",
       "header.v-app-bar {\n",
       "  z-index: 800 !important;\n",
       "}\n",
       "\n",
       "/* set the menu_content on top of the map when it's set to fullscreen */\n",
       ".v-menu__content {\n",
       "  max-width: 100% !important;\n",
       "}\n",
       "\n",
       "/* make sure navigation drawers are always visible when they exist */\n",
       "nav.v-navigation-drawer {\n",
       "  z-index: 900 !important;\n",
       "}\n",
       "\n",
       "/* create extra position for the leaflet map controls */\n",
       ".leaflet-center {\n",
       "  left: 50%;\n",
       "  transform: translate(-50%, 0%);\n",
       "}\n",
       "\n",
       ".leaflet-middle {\n",
       "  top: 50%;\n",
       "  position: absolute;\n",
       "  z-index: 1000;\n",
       "  pointer-events: none;\n",
       "  transform: translate(0%, -50%);\n",
       "}\n",
       "\n",
       ".leaflet-center.leaflet-middle {\n",
       "  transform: translate(-50%, -50%);\n",
       "}\n",
       "\n",
       "/* create extra classes to customize the layer_control table */\n",
       ".v-no-hover:hover {\n",
       "  background-color: transparent !important;\n",
       "}\n",
       "\n",
       ".v-no-border tbody tr td,\n",
       ".v-no-border tbody tr th {\n",
       "  border: none !important;\n",
       "}\n",
       "\n",
       "/* extra css rules to make the messages disappear beneath the SimpleSlider */\n",
       ".v-no-messages .v-messages {\n",
       "  display: none;\n",
       "}\n",
       "\n",
       ".v-no-messages .v-input__slot {\n",
       "  margin-bottom: 0;\n",
       "}\n",
       "\n",
       "/* specific css for the btn placed on maps */\n",
       ".v-btn.v-size--default.v-map-btn:not(.v-btn--round) {\n",
       "  padding: 0px;\n",
       "  min-width: 0px;\n",
       "  width: 30px;\n",
       "  height: 30px;\n",
       "}\n",
       "\n",
       "/* add specific css for the zoom btn of the map */\n",
       ".v-btn.v-zoom-plus {\n",
       "  border-bottom-left-radius: 0;\n",
       "  border-bottom-right-radius: 0;\n",
       "}\n",
       "\n",
       ".v-btn.v-zoom-minus {\n",
       "  margin-top: -1px;\n",
       "  border-top-left-radius: 0;\n",
       "  border-top-right-radius: 0;\n",
       "}\n",
       "\n",
       "/* css rules for fullscreen menus */\n",
       ".v-card.v-menu-fullscreen {\n",
       "  width: calc(100vw - 80px);\n",
       "  height: calc(100vh - 20px);\n",
       "}\n",
       "\n",
       "/* hide the disclaimer message placed on top of the ui notebook\n",
       " * the message will be displayed until the css is loaded */\n",
       "#loading-app {\n",
       "  display: none !important;\n",
       "}\n",
       "\n",
       "/* Related with https://github.com/12rambau/sepal_ui/issues/893 */\n",
       "#rendered_cells {\n",
       "  contain: revert !important;\n",
       "  background-color: revert !important;\n",
       "}\n",
       "</style>"
      ],
      "text/plain": [
       "<IPython.core.display.HTML object>"
      ]
     },
     "metadata": {},
     "output_type": "display_data"
    },
    {
     "data": {
      "text/html": [
       "<link rel=\"stylesheet\" href=\"https://cdnjs.cloudflare.com/ajax/libs/font-awesome/6.2.1/css/all.min.css\"/>"
      ],
      "text/plain": [
       "<IPython.core.display.HTML object>"
      ]
     },
     "metadata": {},
     "output_type": "display_data"
    },
    {
     "data": {
      "application/javascript": [
       "/*******************************************************************************\n",
       " * remove any links from fontawesome 5 created by jupyter in favor of\n",
       " * fontawesome 6. to be removed when Jupyter updates it\n",
       " */\n",
       "\n",
       "function remove_fa5() {\n",
       "  let links = document.querySelectorAll(\n",
       "    \"link[href^='https://cdn.jsdelivr.net/npm/@fortawesome/fontawesome-free@^5']\"\n",
       "  );\n",
       "\n",
       "  links.forEach((link) => link.remove());\n",
       "}\n",
       "\n",
       "if (document.readyState != \"loading\") remove_fa5();\n",
       "else document.addEventListener(\"DOMContentLoaded\", remove_fa5);\n"
      ],
      "text/plain": [
       "<IPython.core.display.Javascript object>"
      ]
     },
     "metadata": {},
     "output_type": "display_data"
    },
    {
     "data": {
      "application/vnd.jupyter.widget-view+json": {
       "model_id": "4db97189fc61455ea37e4354e162df8d",
       "version_major": 2,
       "version_minor": 0
      },
      "text/plain": [
       "ResizeTrigger()"
      ]
     },
     "metadata": {},
     "output_type": "display_data"
    },
    {
     "ename": "ImportError",
     "evalue": "\n================================================================\nFailed to import CuPy.\n\nIf you installed CuPy via wheels (cupy-cudaXXX or cupy-rocm-X-X), make sure that the package matches with the version of CUDA or ROCm installed.\n\nOn Linux, you may need to set LD_LIBRARY_PATH environment variable depending on how you installed CUDA/ROCm.\nOn Windows, try setting CUDA_PATH environment variable.\n\nCheck the Installation Guide for details:\n  https://docs.cupy.dev/en/latest/install.html\n\nOriginal error:\n  ImportError: libcudart.so.11.0: cannot open shared object file: No such file or directory\n================================================================\n",
     "output_type": "error",
     "traceback": [
      "\u001b[0;31m---------------------------------------------------------------------------\u001b[0m",
      "\u001b[0;31mImportError\u001b[0m                               Traceback (most recent call last)",
      "File \u001b[0;32m~/module-venv/bfast_gpu/lib/python3.10/site-packages/cupy/__init__.py:18\u001b[0m\n\u001b[1;32m     17\u001b[0m \u001b[38;5;28;01mtry\u001b[39;00m:\n\u001b[0;32m---> 18\u001b[0m     \u001b[38;5;28;01mfrom\u001b[39;00m \u001b[38;5;21;01mcupy\u001b[39;00m \u001b[38;5;28;01mimport\u001b[39;00m _core  \u001b[38;5;66;03m# NOQA\u001b[39;00m\n\u001b[1;32m     19\u001b[0m \u001b[38;5;28;01mexcept\u001b[39;00m \u001b[38;5;167;01mImportError\u001b[39;00m \u001b[38;5;28;01mas\u001b[39;00m e:\n",
      "File \u001b[0;32m~/module-venv/bfast_gpu/lib/python3.10/site-packages/cupy/_core/__init__.py:1\u001b[0m\n\u001b[0;32m----> 1\u001b[0m \u001b[38;5;28;01mfrom\u001b[39;00m \u001b[38;5;21;01mcupy\u001b[39;00m\u001b[38;5;21;01m.\u001b[39;00m\u001b[38;5;21;01m_core\u001b[39;00m \u001b[38;5;28;01mimport\u001b[39;00m core  \u001b[38;5;66;03m# NOQA\u001b[39;00m\n\u001b[1;32m      2\u001b[0m \u001b[38;5;28;01mfrom\u001b[39;00m \u001b[38;5;21;01mcupy\u001b[39;00m\u001b[38;5;21;01m.\u001b[39;00m\u001b[38;5;21;01m_core\u001b[39;00m \u001b[38;5;28;01mimport\u001b[39;00m fusion  \u001b[38;5;66;03m# NOQA\u001b[39;00m\n",
      "\u001b[0;31mImportError\u001b[0m: libcudart.so.11.0: cannot open shared object file: No such file or directory",
      "\nThe above exception was the direct cause of the following exception:\n",
      "\u001b[0;31mImportError\u001b[0m                               Traceback (most recent call last)",
      "Cell \u001b[0;32mIn[3], line 1\u001b[0m\n\u001b[0;32m----> 1\u001b[0m \u001b[38;5;28;01mfrom\u001b[39;00m \u001b[38;5;21;01mcomponent\u001b[39;00m \u001b[38;5;28;01mimport\u001b[39;00m tile\n",
      "File \u001b[0;32m~/1_modules/bfast_gpu/component/tile/__init__.py:5\u001b[0m\n\u001b[1;32m      1\u001b[0m \u001b[38;5;66;03m# if you only have few tiles a module is not necessary and you can simply use a tile.py file\u001b[39;00m\n\u001b[1;32m      2\u001b[0m \u001b[38;5;66;03m# in a big module with lot of tiles, it can make sense to split things in separate for the sake of maintenance\u001b[39;00m\n\u001b[1;32m      3\u001b[0m \n\u001b[1;32m      4\u001b[0m \u001b[38;5;66;03m# if you use a module import all the functions here to only have 1 call to make\u001b[39;00m\n\u001b[0;32m----> 5\u001b[0m \u001b[38;5;28;01mfrom\u001b[39;00m \u001b[38;5;21;01m.\u001b[39;00m\u001b[38;5;21;01mbfast_tile\u001b[39;00m \u001b[38;5;28;01mimport\u001b[39;00m \u001b[38;5;241m*\u001b[39m\n\u001b[1;32m      6\u001b[0m \u001b[38;5;28;01mfrom\u001b[39;00m \u001b[38;5;21;01m.\u001b[39;00m\u001b[38;5;21;01mresult_tile\u001b[39;00m \u001b[38;5;28;01mimport\u001b[39;00m \u001b[38;5;241m*\u001b[39m\n",
      "File \u001b[0;32m~/1_modules/bfast_gpu/component/tile/bfast_tile.py:11\u001b[0m\n\u001b[1;32m      9\u001b[0m \u001b[38;5;28;01mfrom\u001b[39;00m \u001b[38;5;21;01mcomponent\u001b[39;00m \u001b[38;5;28;01mimport\u001b[39;00m widget \u001b[38;5;28;01mas\u001b[39;00m cw\n\u001b[1;32m     10\u001b[0m \u001b[38;5;28;01mfrom\u001b[39;00m \u001b[38;5;21;01mcomponent\u001b[39;00m\u001b[38;5;21;01m.\u001b[39;00m\u001b[38;5;21;01mmessage\u001b[39;00m \u001b[38;5;28;01mimport\u001b[39;00m cm\n\u001b[0;32m---> 11\u001b[0m \u001b[38;5;28;01mfrom\u001b[39;00m \u001b[38;5;21;01mcomponent\u001b[39;00m \u001b[38;5;28;01mimport\u001b[39;00m scripts \u001b[38;5;28;01mas\u001b[39;00m cs\n\u001b[1;32m     12\u001b[0m \u001b[38;5;28;01mfrom\u001b[39;00m \u001b[38;5;21;01mcomponent\u001b[39;00m \u001b[38;5;28;01mimport\u001b[39;00m parameter \u001b[38;5;28;01mas\u001b[39;00m cp\n\u001b[1;32m     15\u001b[0m \u001b[38;5;28;01mclass\u001b[39;00m \u001b[38;5;21;01mBfastTile\u001b[39;00m(sw\u001b[38;5;241m.\u001b[39mTile):\n",
      "File \u001b[0;32m~/1_modules/bfast_gpu/component/scripts/__init__.py:5\u001b[0m\n\u001b[1;32m      1\u001b[0m \u001b[38;5;66;03m# if you only have few funcitions a module is not necessary and you can simply use a scripts.py file\u001b[39;00m\n\u001b[1;32m      2\u001b[0m \u001b[38;5;66;03m# in a big module with lot of functions, it can make sense to split things in separate for the sake of maintenance\u001b[39;00m\n\u001b[1;32m      3\u001b[0m \n\u001b[1;32m      4\u001b[0m \u001b[38;5;66;03m# if you use a module import all the functions here to only have 1 call to make\u001b[39;00m\n\u001b[0;32m----> 5\u001b[0m \u001b[38;5;28;01mfrom\u001b[39;00m \u001b[38;5;21;01m.\u001b[39;00m\u001b[38;5;21;01mprocess\u001b[39;00m \u001b[38;5;28;01mimport\u001b[39;00m \u001b[38;5;241m*\u001b[39m\n",
      "File \u001b[0;32m~/1_modules/bfast_gpu/component/scripts/process.py:11\u001b[0m\n\u001b[1;32m      9\u001b[0m \u001b[38;5;28;01mimport\u001b[39;00m \u001b[38;5;21;01mrasterio\u001b[39;00m \u001b[38;5;28;01mas\u001b[39;00m \u001b[38;5;21;01mrio\u001b[39;00m\n\u001b[1;32m     10\u001b[0m \u001b[38;5;28;01mimport\u001b[39;00m \u001b[38;5;21;01mnumpy\u001b[39;00m \u001b[38;5;28;01mas\u001b[39;00m \u001b[38;5;21;01mnp\u001b[39;00m\n\u001b[0;32m---> 11\u001b[0m \u001b[38;5;28;01mfrom\u001b[39;00m \u001b[38;5;21;01mbfast\u001b[39;00m \u001b[38;5;28;01mimport\u001b[39;00m BFASTMonitor\n\u001b[1;32m     12\u001b[0m \u001b[38;5;28;01mfrom\u001b[39;00m \u001b[38;5;21;01mbfast\u001b[39;00m\u001b[38;5;21;01m.\u001b[39;00m\u001b[38;5;21;01mmonitor\u001b[39;00m\u001b[38;5;21;01m.\u001b[39;00m\u001b[38;5;21;01mutils\u001b[39;00m \u001b[38;5;28;01mimport\u001b[39;00m crop_data_dates\n\u001b[1;32m     13\u001b[0m \u001b[38;5;28;01mfrom\u001b[39;00m \u001b[38;5;21;01mosgeo\u001b[39;00m \u001b[38;5;28;01mimport\u001b[39;00m gdal\n",
      "File \u001b[0;32m~/module-venv/bfast_gpu/lib/python3.10/site-packages/bfast/__init__.py:8\u001b[0m\n\u001b[1;32m      6\u001b[0m \u001b[38;5;66;03m# check that cupy is installed \u001b[39;00m\n\u001b[1;32m      7\u001b[0m \u001b[38;5;28;01mtry\u001b[39;00m: \n\u001b[0;32m----> 8\u001b[0m     \u001b[38;5;28;01mimport\u001b[39;00m \u001b[38;5;21;01mcupy\u001b[39;00m \n\u001b[1;32m      9\u001b[0m \u001b[38;5;28;01mexcept\u001b[39;00m \u001b[38;5;167;01mModuleNotFoundError\u001b[39;00m:\n\u001b[1;32m     10\u001b[0m     warn(\u001b[38;5;124m\"\u001b[39m\u001b[38;5;124mcupy is not available in this environment, GPU fonctionnalities won\u001b[39m\u001b[38;5;124m'\u001b[39m\u001b[38;5;124mt be available\u001b[39m\u001b[38;5;124m\"\u001b[39m)\n",
      "File \u001b[0;32m~/module-venv/bfast_gpu/lib/python3.10/site-packages/cupy/__init__.py:20\u001b[0m\n\u001b[1;32m     18\u001b[0m     \u001b[38;5;28;01mfrom\u001b[39;00m \u001b[38;5;21;01mcupy\u001b[39;00m \u001b[38;5;28;01mimport\u001b[39;00m _core  \u001b[38;5;66;03m# NOQA\u001b[39;00m\n\u001b[1;32m     19\u001b[0m \u001b[38;5;28;01mexcept\u001b[39;00m \u001b[38;5;167;01mImportError\u001b[39;00m \u001b[38;5;28;01mas\u001b[39;00m e:\n\u001b[0;32m---> 20\u001b[0m     \u001b[38;5;28;01mraise\u001b[39;00m \u001b[38;5;167;01mImportError\u001b[39;00m(\u001b[38;5;124mf\u001b[39m\u001b[38;5;124m'''\u001b[39m\n\u001b[1;32m     21\u001b[0m \u001b[38;5;124m================================================================\u001b[39m\n\u001b[1;32m     22\u001b[0m \u001b[38;5;132;01m{\u001b[39;00m_environment\u001b[38;5;241m.\u001b[39m_diagnose_import_error()\u001b[38;5;132;01m}\u001b[39;00m\n\u001b[1;32m     23\u001b[0m \n\u001b[1;32m     24\u001b[0m \u001b[38;5;124mOriginal error:\u001b[39m\n\u001b[1;32m     25\u001b[0m \u001b[38;5;124m  \u001b[39m\u001b[38;5;132;01m{\u001b[39;00m\u001b[38;5;28mtype\u001b[39m(e)\u001b[38;5;241m.\u001b[39m\u001b[38;5;18m__name__\u001b[39m\u001b[38;5;132;01m}\u001b[39;00m\u001b[38;5;124m: \u001b[39m\u001b[38;5;132;01m{\u001b[39;00me\u001b[38;5;132;01m}\u001b[39;00m\n\u001b[1;32m     26\u001b[0m \u001b[38;5;124m================================================================\u001b[39m\n\u001b[1;32m     27\u001b[0m \u001b[38;5;124m'''\u001b[39m) \u001b[38;5;28;01mfrom\u001b[39;00m \u001b[38;5;21;01me\u001b[39;00m\n\u001b[1;32m     30\u001b[0m \u001b[38;5;28;01mfrom\u001b[39;00m \u001b[38;5;21;01mcupy\u001b[39;00m \u001b[38;5;28;01mimport\u001b[39;00m cuda  \u001b[38;5;66;03m# NOQA\u001b[39;00m\n\u001b[1;32m     31\u001b[0m \u001b[38;5;66;03m# Do not make `cupy.cupyx` available because it is confusing.\u001b[39;00m\n",
      "\u001b[0;31mImportError\u001b[0m: \n================================================================\nFailed to import CuPy.\n\nIf you installed CuPy via wheels (cupy-cudaXXX or cupy-rocm-X-X), make sure that the package matches with the version of CUDA or ROCm installed.\n\nOn Linux, you may need to set LD_LIBRARY_PATH environment variable depending on how you installed CUDA/ROCm.\nOn Windows, try setting CUDA_PATH environment variable.\n\nCheck the Installation Guide for details:\n  https://docs.cupy.dev/en/latest/install.html\n\nOriginal error:\n  ImportError: libcudart.so.11.0: cannot open shared object file: No such file or directory\n================================================================\n"
     ]
    }
   ],
   "source": [
    "from component import tile"
   ]
  },
  {
   "cell_type": "code",
   "execution_count": null,
   "metadata": {},
   "outputs": [],
   "source": [
    "bfast_tile = tile.BfastTile()"
   ]
  },
  {
   "cell_type": "code",
   "execution_count": null,
   "metadata": {},
   "outputs": [],
   "source": [
    "map_tile = tile.ResultTile(bfast_tile)"
   ]
  },
  {
   "cell_type": "code",
   "execution_count": null,
   "metadata": {
    "tags": []
   },
   "outputs": [],
   "source": [
    "bfast_tile"
   ]
  },
  {
   "cell_type": "code",
   "execution_count": 4,
   "metadata": {},
   "outputs": [
    {
     "ename": "NameError",
     "evalue": "name 'map_tile' is not defined",
     "output_type": "error",
     "traceback": [
      "\u001b[0;31m---------------------------------------------------------------------------\u001b[0m",
      "\u001b[0;31mNameError\u001b[0m                                 Traceback (most recent call last)",
      "Cell \u001b[0;32mIn[4], line 1\u001b[0m\n\u001b[0;32m----> 1\u001b[0m \u001b[43mmap_tile\u001b[49m\n",
      "\u001b[0;31mNameError\u001b[0m: name 'map_tile' is not defined"
     ]
    }
   ],
   "source": [
    "map_tile"
   ]
  }
 ],
 "metadata": {
  "kernelspec": {
   "display_name": "(test) test-bfast_gpu",
   "language": "python",
   "name": "test-bfast_gpu"
  },
  "language_info": {
   "codemirror_mode": {
    "name": "ipython",
    "version": 3
   },
   "file_extension": ".py",
   "mimetype": "text/x-python",
   "name": "python",
   "nbconvert_exporter": "python",
   "pygments_lexer": "ipython3",
   "version": "3.10.12"
  }
 },
 "nbformat": 4,
 "nbformat_minor": 4
}
