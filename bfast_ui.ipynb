{
 "cells": [
  {
   "cell_type": "code",
   "execution_count": 1,
   "id": "4ffc6b79",
   "metadata": {},
   "outputs": [
    {
     "data": {
      "application/vnd.jupyter.widget-view+json": {
       "model_id": "ab0ee664889a415890d5931496fdbd09",
       "version_major": 2,
       "version_minor": 0
      },
      "text/plain": [
       "Styles()"
      ]
     },
     "metadata": {},
     "output_type": "display_data"
    },
    {
     "data": {
      "application/vnd.jupyter.widget-view+json": {
       "model_id": "13894193d41e4e6c82174b1a509aa9f3",
       "version_major": 2,
       "version_minor": 0
      },
      "text/plain": [
       "ResizeTrigger()"
      ]
     },
     "metadata": {},
     "output_type": "display_data"
    }
   ],
   "source": [
    "from component import tile"
   ]
  },
  {
   "cell_type": "code",
   "execution_count": 2,
   "id": "9c523a7d",
   "metadata": {},
   "outputs": [],
   "source": [
    "bfast_tile = tile.BfastTile()"
   ]
  },
  {
   "cell_type": "code",
   "execution_count": 3,
   "id": "a28099e3",
   "metadata": {
    "tags": []
   },
   "outputs": [
    {
     "data": {
      "application/vnd.jupyter.widget-view+json": {
       "model_id": "04cf72f524b845149f878c53c5320600",
       "version_major": 2,
       "version_minor": 0
      },
      "text/plain": [
       "BfastTile(align_center=True, children=[Card(children=[Html(children=['Select your timeseries folder'], tag='h2…"
      ]
     },
     "metadata": {},
     "output_type": "display_data"
    }
   ],
   "source": [
    "bfast_tile"
   ]
  },
  {
   "cell_type": "code",
   "execution_count": null,
   "id": "bf075e0c",
   "metadata": {},
   "outputs": [],
   "source": []
  }
 ],
 "metadata": {
  "kernelspec": {
   "display_name": "Python 3",
   "language": "python",
   "name": "python3"
  },
  "language_info": {
   "codemirror_mode": {
    "name": "ipython",
    "version": 3
   },
   "file_extension": ".py",
   "mimetype": "text/x-python",
   "name": "python",
   "nbconvert_exporter": "python",
   "pygments_lexer": "ipython3",
   "version": "3.6.9"
  }
 },
 "nbformat": 4,
 "nbformat_minor": 5
}
