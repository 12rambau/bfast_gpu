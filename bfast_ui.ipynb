{
 "cells": [
  {
   "cell_type": "code",
   "execution_count": null,
   "id": "2ddbcf51",
   "metadata": {},
   "outputs": [],
   "source": [
    "from component import tile"
   ]
  },
  {
   "cell_type": "code",
   "execution_count": null,
   "id": "5d7ff446",
   "metadata": {},
   "outputs": [],
   "source": [
    "bfast_tile = tile.BfastTile()"
   ]
  },
  {
   "cell_type": "code",
   "execution_count": null,
   "id": "9bfa9eb2",
   "metadata": {
    "tags": []
   },
   "outputs": [],
   "source": [
    "bfast_tile"
   ]
  },
  {
   "cell_type": "code",
   "execution_count": null,
   "id": "0eef489f",
   "metadata": {},
   "outputs": [],
   "source": []
  }
 ],
 "metadata": {
  "kernelspec": {
   "display_name": "Python 3",
   "language": "python",
   "name": "python3"
  },
  "language_info": {
   "codemirror_mode": {
    "name": "ipython",
    "version": 3
   },
   "file_extension": ".py",
   "mimetype": "text/x-python",
   "name": "python",
   "nbconvert_exporter": "python",
   "pygments_lexer": "ipython3",
   "version": "3.6.9"
  }
 },
 "nbformat": 4,
 "nbformat_minor": 5
}
