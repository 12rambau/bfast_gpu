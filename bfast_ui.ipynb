{
 "cells": [
  {
   "cell_type": "code",
   "execution_count": null,
   "id": "61a3c817",
   "metadata": {},
   "outputs": [],
   "source": [
    "from component import tile"
   ]
  },
  {
   "cell_type": "code",
   "execution_count": null,
   "id": "1e3d2cbf",
   "metadata": {},
   "outputs": [],
   "source": [
    "bfast_tile = tile.BfastTile()"
   ]
  },
  {
   "cell_type": "code",
   "execution_count": null,
   "id": "76da8c7b-d4be-403f-a9f3-dc1df844b5da",
   "metadata": {},
   "outputs": [],
   "source": [
    "map_tile = tile.ResultTile(bfast_tile)"
   ]
  },
  {
   "cell_type": "code",
   "execution_count": null,
   "id": "23541198",
   "metadata": {
    "tags": []
   },
   "outputs": [],
   "source": [
    "bfast_tile"
   ]
  },
  {
   "cell_type": "code",
   "execution_count": null,
   "id": "8cc29fc2",
   "metadata": {},
   "outputs": [],
   "source": [
    "map_tile"
   ]
  },
  {
   "cell_type": "code",
   "execution_count": null,
   "id": "1578c161-cc43-45e2-ab7e-86d8e33eccb7",
   "metadata": {},
   "outputs": [],
   "source": [
    "bfast_tile.dir_"
   ]
  },
  {
   "cell_type": "code",
   "execution_count": null,
   "id": "ede11ffb-7cae-4a5f-9d9d-8d5d61598142",
   "metadata": {},
   "outputs": [],
   "source": [
    "map_tile.out_dir"
   ]
  },
  {
   "cell_type": "code",
   "execution_count": null,
   "id": "b0bce373-2643-407d-a1a1-5342276574bb",
   "metadata": {},
   "outputs": [],
   "source": []
  }
 ],
 "metadata": {
  "kernelspec": {
   "display_name": "Python 3",
   "language": "python",
   "name": "python3"
  },
  "language_info": {
   "codemirror_mode": {
    "name": "ipython",
    "version": 3
   },
   "file_extension": ".py",
   "mimetype": "text/x-python",
   "name": "python",
   "nbconvert_exporter": "python",
   "pygments_lexer": "ipython3",
   "version": "3.6.9"
  }
 },
 "nbformat": 4,
 "nbformat_minor": 5
}
