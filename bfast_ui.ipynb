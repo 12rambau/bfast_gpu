{
 "cells": [
  {
   "cell_type": "code",
   "execution_count": 1,
   "id": "61a3c817",
   "metadata": {},
   "outputs": [
    {
     "data": {
      "application/vnd.jupyter.widget-view+json": {
       "model_id": "cdbc502a6cca4174812b1c1b60fedcd3",
       "version_major": 2,
       "version_minor": 0
      },
      "text/plain": [
       "Styles()"
      ]
     },
     "metadata": {},
     "output_type": "display_data"
    },
    {
     "data": {
      "application/vnd.jupyter.widget-view+json": {
       "model_id": "211f1e9519974030ae78ac449c451b2d",
       "version_major": 2,
       "version_minor": 0
      },
      "text/plain": [
       "ResizeTrigger()"
      ]
     },
     "metadata": {},
     "output_type": "display_data"
    }
   ],
   "source": [
    "from component import tile"
   ]
  },
  {
   "cell_type": "code",
   "execution_count": 2,
   "id": "1e3d2cbf",
   "metadata": {},
   "outputs": [],
   "source": [
    "bfast_tile = tile.BfastTile()"
   ]
  },
  {
   "cell_type": "code",
   "execution_count": 3,
   "id": "76da8c7b-d4be-403f-a9f3-dc1df844b5da",
   "metadata": {},
   "outputs": [],
   "source": [
    "map_tile = tile.ResultTile(bfast_tile)"
   ]
  },
  {
   "cell_type": "code",
   "execution_count": 4,
   "id": "23541198",
   "metadata": {
    "tags": []
   },
   "outputs": [
    {
     "data": {
      "application/vnd.jupyter.widget-view+json": {
       "model_id": "29bc61cd32c8471e91a5cb2c16dd9a48",
       "version_major": 2,
       "version_minor": 0
      },
      "text/plain": [
       "BfastTile(align_center=True, children=[Card(children=[Html(children=['Select time series folder'], tag='h2'), …"
      ]
     },
     "metadata": {},
     "output_type": "display_data"
    }
   ],
   "source": [
    "bfast_tile"
   ]
  },
  {
   "cell_type": "code",
   "execution_count": 5,
   "id": "8cc29fc2",
   "metadata": {},
   "outputs": [
    {
     "data": {
      "application/vnd.jupyter.widget-view+json": {
       "model_id": "7b6842fe963c4cf19f8c8b4abc78c34c",
       "version_major": 2,
       "version_minor": 0
      },
      "text/plain": [
       "ResultTile(align_center=True, children=[Card(children=[Html(children=['Result map'], tag='h2'), Flex(children=…"
      ]
     },
     "metadata": {},
     "output_type": "display_data"
    }
   ],
   "source": [
    "map_tile"
   ]
  },
  {
   "cell_type": "code",
   "execution_count": 6,
   "id": "1578c161-cc43-45e2-ab7e-86d8e33eccb7",
   "metadata": {},
   "outputs": [],
   "source": [
    "bfast_tile.dir_"
   ]
  },
  {
   "cell_type": "code",
   "execution_count": 7,
   "id": "ede11ffb-7cae-4a5f-9d9d-8d5d61598142",
   "metadata": {},
   "outputs": [],
   "source": [
    "map_tile.out_dir"
   ]
  },
  {
   "cell_type": "code",
   "execution_count": 8,
   "id": "b0bce373-2643-407d-a1a1-5342276574bb",
   "metadata": {},
   "outputs": [
    {
     "name": "stdout",
     "output_type": "stream",
     "text": [
      "Help on method add_legend in module geemap.geemap:\n",
      "\n",
      "add_legend(legend_title='Legend', legend_dict=None, legend_keys=None, legend_colors=None, position='bottomright', builtin_legend=None, layer_name=None, **kwargs) method of sepal_ui.mapping.mapping.SepalMap instance\n",
      "    Adds a customized basemap to the map.\n",
      "    \n",
      "    Args:\n",
      "        legend_title (str, optional): Title of the legend. Defaults to 'Legend'.\n",
      "        legend_dict (dict, optional): A dictionary containing legend items as keys and color as values. If provided, legend_keys and legend_colors will be ignored. Defaults to None.\n",
      "        legend_keys (list, optional): A list of legend keys. Defaults to None.\n",
      "        legend_colors (list, optional): A list of legend colors. Defaults to None.\n",
      "        position (str, optional): Position of the legend. Defaults to 'bottomright'.\n",
      "        builtin_legend (str, optional): Name of the builtin legend to add to the map. Defaults to None.\n",
      "        layer_name (str, optional): Layer name of the legend to be associated with. Defaults to None.\n",
      "\n"
     ]
    }
   ],
   "source": [
    "help(map_tile.m.add_legend)"
   ]
  },
  {
   "cell_type": "code",
   "execution_count": null,
   "id": "122c34d4-3861-4f8a-b589-613fb6c51ef3",
   "metadata": {},
   "outputs": [],
   "source": []
  }
 ],
 "metadata": {
  "kernelspec": {
   "display_name": "Python 3",
   "language": "python",
   "name": "python3"
  },
  "language_info": {
   "codemirror_mode": {
    "name": "ipython",
    "version": 3
   },
   "file_extension": ".py",
   "mimetype": "text/x-python",
   "name": "python",
   "nbconvert_exporter": "python",
   "pygments_lexer": "ipython3",
   "version": "3.6.9"
  }
 },
 "nbformat": 4,
 "nbformat_minor": 5
}
