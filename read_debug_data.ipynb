{
 "cells": [
  {
   "cell_type": "markdown",
   "id": "51284337-92c4-4ce6-a2a8-74bd11d604b3",
   "metadata": {},
   "source": [
    "## Get the incriminated informations "
   ]
  },
  {
   "cell_type": "code",
   "execution_count": null,
   "id": "7ec613cd-3aa6-4560-83b8-88fa6b31785d",
   "metadata": {},
   "outputs": [],
   "source": [
    "from component import widget as cw\n",
    "from component import parameter as cp\n",
    "from pathlib import Path\n",
    "\n",
    "folder_w = cw.FolderSelect(folder=cp.result_dir / \"bfast_gpu_debug\")\n",
    "folder_w"
   ]
  },
  {
   "cell_type": "markdown",
   "id": "128f4d68-aefb-462a-ae95-d79709d229ef",
   "metadata": {},
   "source": [
    "## check the content \n",
    "\n",
    "if the foder result of this cell is false you shoud not continue "
   ]
  },
  {
   "cell_type": "code",
   "execution_count": null,
   "id": "5fd0a6f8-7dbc-4787-a311-675684be2d5e",
   "metadata": {},
   "outputs": [],
   "source": [
    "folder = Path(folder_w.v_model)\n",
    "\n",
    "monitoring_params_f = folder / \"monitor_params.json\"\n",
    "dates_f = folder / \"dates.json\"\n",
    "data_f = folder / \"data.npy\"\n",
    "\n",
    "[f.is_file() for f in [monitoring_params_f, dates_f, data_f]]"
   ]
  },
  {
   "cell_type": "markdown",
   "id": "4c67446d-5d19-4e77-b620-dca3164dd51f",
   "metadata": {},
   "source": [
    "## prepare the data\n",
    "\n",
    "read everything and cast back json datetime strings as datetime objects "
   ]
  },
  {
   "cell_type": "code",
   "execution_count": null,
   "id": "8f459431-48d9-4517-8793-69dac2a57502",
   "metadata": {},
   "outputs": [],
   "source": [
    "import json\n",
    "from datetime import datetime as dt\n",
    "import numpy as np"
   ]
  },
  {
   "cell_type": "code",
   "execution_count": null,
   "id": "1f1067c7-ce69-42b4-92e4-ea7651a7e73f",
   "metadata": {},
   "outputs": [],
   "source": [
    "# monitoring_param\n",
    "\n",
    "monitoring_params = json.loads(monitoring_params_f.read_text())\n",
    "monitoring_params.update(\n",
    "    start_monitor=dt.strptime(monitoring_params[\"start_monitor\"], \"%Y-%m-%d\")\n",
    ")\n",
    "monitoring_params"
   ]
  },
  {
   "cell_type": "code",
   "execution_count": null,
   "id": "949306f7-eeac-4d0d-b26d-030253142b65",
   "metadata": {},
   "outputs": [],
   "source": [
    "# dates\n",
    "dates = [dt.strptime(d, \"%Y-%m-%d\") for d in json.loads(dates_f.read_text())]\n",
    "# dates"
   ]
  },
  {
   "cell_type": "code",
   "execution_count": null,
   "id": "490008cb-9387-4320-a5d0-f23755edc61e",
   "metadata": {},
   "outputs": [],
   "source": [
    "# data\n",
    "data = np.load(data_f)\n",
    "print(f\"shape: {data.shape}\")\n",
    "\n",
    "nb_image = data.shape[0]\n",
    "print(f\"nb images: {data.shape[0]}\")"
   ]
  },
  {
   "cell_type": "markdown",
   "id": "a88716dd-e269-43ef-a86d-df985dd58e7a",
   "metadata": {},
   "source": [
    "## run bfast model and display magnitude results "
   ]
  },
  {
   "cell_type": "code",
   "execution_count": null,
   "id": "59e4fb96-e7a9-42ca-ab26-1ec346c2af40",
   "metadata": {},
   "outputs": [],
   "source": [
    "from bfast import BFASTMonitor\n",
    "\n",
    "model = BFASTMonitor(**monitoring_params)\n",
    "model.fit(data, dates)\n",
    "\n",
    "results = model.magnitudes\n",
    "\n",
    "results.shape"
   ]
  },
  {
   "cell_type": "code",
   "execution_count": null,
   "id": "087f62d3-0cef-4fea-af33-e5d1dd39cbb1",
   "metadata": {},
   "outputs": [],
   "source": [
    "from matplotlib import pyplot as plt\n",
    "\n",
    "plt.imshow(results, cmap=\"viridis\", interpolation=\"nearest\")\n",
    "plt.colorbar()\n",
    "plt.show()"
   ]
  },
  {
   "cell_type": "code",
   "execution_count": null,
   "id": "1e4e075c-b892-454a-b478-d0725fd094ff",
   "metadata": {},
   "outputs": [],
   "source": [
    "## check the images\n",
    "\n",
    "from matplotlib import pyplot as plt\n",
    "\n",
    "min_ = 0  # change the value to see less or more images\n",
    "max_ = nb_image\n",
    "\n",
    "for i in range(min_, min(max_, nb_image)):\n",
    "\n",
    "    plt.imshow(data[i], cmap=\"viridis\", interpolation=\"nearest\")\n",
    "    plt.title(dates[i].strftime(\"%Y-%m-%d\"))\n",
    "    plt.colorbar()\n",
    "    plt.show()"
   ]
  },
  {
   "cell_type": "markdown",
   "id": "69aa1f3b-136f-4814-9db8-0d856481e9fa",
   "metadata": {},
   "source": [
    "## run all the tile separately\n",
    "\n",
    "I want to know if the bug is coming from the writing function "
   ]
  },
  {
   "cell_type": "code",
   "execution_count": null,
   "id": "8798c7f0-649e-4def-a122-1953acce45e5",
   "metadata": {},
   "outputs": [],
   "source": [
    "from component import widget as cw\n",
    "from component import parameter as cp\n",
    "from pathlib import Path\n",
    "\n",
    "folder_w = cw.FolderSelect(folder=cp.result_dir / \"bfast_gpu_debug\")\n",
    "folder_w"
   ]
  },
  {
   "cell_type": "code",
   "execution_count": null,
   "id": "5b33f9ca-f6a0-4944-95e1-2853e3f72d76",
   "metadata": {},
   "outputs": [],
   "source": [
    "folder = Path(folder_w.v_model)\n",
    "\n",
    "for el in folder.glob(\"*/\"):\n",
    "\n",
    "    int(el.stem)\n",
    "\n",
    "print(\"ok\")"
   ]
  },
  {
   "cell_type": "code",
   "execution_count": null,
   "id": "079c9be1-f056-4d61-8ff7-1b14d9826dd4",
   "metadata": {},
   "outputs": [],
   "source": [
    "import json\n",
    "from datetime import datetime as dt\n",
    "import numpy as np\n",
    "from matplotlib import pyplot as plt\n",
    "from bfast import BFASTMonitor\n",
    "from tqdm import tqdm\n",
    "\n",
    "\n",
    "for el in tqdm(folder.glob(\"*/\")):\n",
    "\n",
    "    output = el / \"magnitudes.npy\"\n",
    "\n",
    "    if output.is_file():\n",
    "        out = np.load(output)\n",
    "    else:\n",
    "\n",
    "        # get the files to read\n",
    "        monitoring_params_f = el / \"monitor_params.json\"\n",
    "        dates_f = el / \"dates.json\"\n",
    "        data_f = el / \"data.npy\"\n",
    "\n",
    "        monitoring_params = json.loads(monitoring_params_f.read_text())\n",
    "        monitoring_params.update(\n",
    "            start_monitor=dt.strptime(monitoring_params[\"start_monitor\"], \"%Y-%m-%d\")\n",
    "        )\n",
    "\n",
    "        dates = [dt.strptime(d, \"%Y-%m-%d\") for d in json.loads(dates_f.read_text())]\n",
    "\n",
    "        data = np.load(data_f)\n",
    "\n",
    "        model = BFASTMonitor(**monitoring_params)\n",
    "        model.fit(data, dates)\n",
    "\n",
    "        out = model.magnitudes\n",
    "\n",
    "        np.save(output, out)\n",
    "\n",
    "    # display the result on a plot\n",
    "    plt.imshow(out, cmap=\"viridis\", interpolation=\"nearest\", vmin=-10, vmax=10)\n",
    "    plt.title(f\"window {el.stem}\")\n",
    "    plt.colorbar()\n",
    "    plt.show()"
   ]
  },
  {
   "cell_type": "code",
   "execution_count": null,
   "id": "4e4108bb-bbcd-4ea0-9e2e-ee3be746799a",
   "metadata": {},
   "outputs": [],
   "source": []
  }
 ],
 "metadata": {
  "kernelspec": {
   "display_name": "Python 3",
   "language": "python",
   "name": "python3"
  },
  "language_info": {
   "codemirror_mode": {
    "name": "ipython",
    "version": 3
   },
   "file_extension": ".py",
   "mimetype": "text/x-python",
   "name": "python",
   "nbconvert_exporter": "python",
   "pygments_lexer": "ipython3",
   "version": "3.6.9"
  }
 },
 "nbformat": 4,
 "nbformat_minor": 5
}
